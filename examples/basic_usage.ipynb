{
 "cells": [
  {
   "cell_type": "markdown",
   "metadata": {},
   "source": [
    "# Basic usage\n",
    "\n",
    "This example demonstrates the basic usage of combined TFRs and how to compute and plot them using the ctfr package."
   ]
  },
  {
   "cell_type": "code",
   "execution_count": 1,
   "metadata": {},
   "outputs": [],
   "source": [
    "import ctfr\n",
    "import numpy as np\n",
    "import matplotlib.pyplot as plt"
   ]
  },
  {
   "cell_type": "markdown",
   "metadata": {},
   "source": [
    "---"
   ]
  },
  {
   "cell_type": "markdown",
   "metadata": {},
   "source": [
    "### Loading the audio data"
   ]
  },
  {
   "cell_type": "markdown",
   "metadata": {},
   "source": [
    "Our synthetic example consists of $1$ s of audio data sampled at $22050 Hz$. The signal is comprised of two superposed sinusoidal components with frequencies $f_1 = 440$ Hz and $f_2 = 506$ Hz, as well as a pulse component with a short duration around $t = 0.5$ s. We will see how the ctfr package can help us compute a combined TFR of STFTs with good resolution in both time and frequency domains, which is not possible with a traditional STFT. Let's load the audio data and plot it."
   ]
  },
  {
   "cell_type": "code",
   "execution_count": null,
   "metadata": {},
   "outputs": [],
   "source": [
    "# Load and print the audio signal.\n",
    "signal, sr = ctfr.load(\"audio/synthetic.wav\")\n",
    "print(f\"Sample rate: {sr} Hz\")\n",
    "plt.plot(signal);"
   ]
  },
  {
   "cell_type": "markdown",
   "metadata": {},
   "source": [
    "---"
   ]
  },
  {
   "cell_type": "markdown",
   "metadata": {},
   "source": [
    "### Computing STFT spectrograms with different resolutions."
   ]
  },
  {
   "cell_type": "markdown",
   "metadata": {},
   "source": [
    "Now, let's compute plot an STFT spectrogram of the audio signal. We will use a window length of $L = 512$ samples (~ $23$ ms), a hop length of $512$ samples, and a FFT size of $2048$ samples."
   ]
  },
  {
   "cell_type": "code",
   "execution_count": null,
   "metadata": {},
   "outputs": [],
   "source": [
    "# Compute the spectrogram with L = 512.\n",
    "spec_512 = ctfr.stft_spec(signal, win_length=512, n_fft=2048, hop_length=256)\n",
    "\n",
    "# Plot the spectrogram.\n",
    "img = ctfr.specshow(ctfr.power_to_db(spec_512, ref=np.max), sr=sr, hop_length=256, x_axis='time', y_axis='linear', cmap='inferno')\n",
    "plt.ylim(0, 1000)\n",
    "plt.colorbar(img, format=\"%+2.0f dB\");"
   ]
  },
  {
   "cell_type": "markdown",
   "metadata": {},
   "source": [
    "We can see that the the pulse component's onset and offset are well delineated, but the sinusoidal components are not well resolved in the frequency domain. This is due to the short window length, which provides good time resolution but poor frequency resolution.\n",
    "\n",
    "Now, let's increase the window length to $L = 1024$ samples (~ $46$ ms) and plot the STFT spectrogram again."
   ]
  },
  {
   "cell_type": "code",
   "execution_count": null,
   "metadata": {},
   "outputs": [],
   "source": [
    "# Compute the spectrogram with L = 1024.\n",
    "spec_1024 = ctfr.stft_spec(signal, win_length=1024, n_fft=2048, hop_length=256)\n",
    "\n",
    "# Plot the spectrogram.\n",
    "img = ctfr.specshow(ctfr.power_to_db(spec_1024, ref=np.max), sr=sr, hop_length=256, x_axis='time', y_axis='linear', cmap='inferno')\n",
    "plt.ylim(0, 1000)\n",
    "plt.colorbar(img, format=\"%+2.0f dB\");"
   ]
  },
  {
   "cell_type": "markdown",
   "metadata": {},
   "source": [
    "Wee see that our frequency resolution is improved at cost of poorer time resolution.\n",
    "\n",
    "Let's go even further and increase our window length to $L = 2048$ samples (~ $93$ ms), compute the corresponding STFT and plot the resulting spectrogram."
   ]
  },
  {
   "cell_type": "code",
   "execution_count": null,
   "metadata": {},
   "outputs": [],
   "source": [
    "# Compute the spectrogram with L = 1024.\n",
    "spec_2048 = ctfr.stft_spec(signal, win_length=2048, n_fft=2048, hop_length=256)\n",
    "\n",
    "# Plot the spectrogram.\n",
    "img = ctfr.specshow(ctfr.power_to_db(spec_2048, ref=np.max), sr=sr, hop_length=256, x_axis='time', y_axis='linear', cmap='inferno')\n",
    "plt.ylim(0, 1000)\n",
    "plt.colorbar(img, format=\"%+2.0f dB\");"
   ]
  },
  {
   "cell_type": "markdown",
   "metadata": {},
   "source": [
    "With this larger window length, our sinusoidal components are now well resolved in the frequency domain, but the pulse component's onset and offset are not well delineated."
   ]
  },
  {
   "cell_type": "markdown",
   "metadata": {},
   "source": [
    "----"
   ]
  },
  {
   "cell_type": "markdown",
   "metadata": {},
   "source": [
    "### Computing a combined TFR"
   ]
  },
  {
   "cell_type": "markdown",
   "metadata": {},
   "source": [
    "In summary, what we have seen is the time-frequency trade-off. Achieving better frequency resolution (by increasing the window length) comes at the cost of poorer time resolution, and vice versa. However, we can circumvent this problem by computing a combined TFR, which is an average (in a generalized sense, depending on the combination method) of multiple STFTs computed with different window lengths. This allows us to achieve good resolution in both time and frequency domains.\n",
    "\n",
    "Let's see how we can do this using this package."
   ]
  },
  {
   "cell_type": "markdown",
   "metadata": {},
   "source": [
    "#### Using ctfr.ctfr_from_specs"
   ]
  },
  {
   "cell_type": "markdown",
   "metadata": {},
   "source": [
    "Since we have already computed  STFTs with different window lengths, we can use the ```ctfr_from_specs``` function to compute a combined TFR from these STFT spectrograms. This function requires an iterable of STFT spectrograms with the same time-frequency alignment. Since we used the same hop length and FFT size for all STFTs, they are already aligned."
   ]
  },
  {
   "cell_type": "code",
   "execution_count": null,
   "metadata": {},
   "outputs": [],
   "source": [
    "print(spec_512.shape)\n",
    "print(spec_1024.shape)\n",
    "print(spec_2048.shape)"
   ]
  },
  {
   "cell_type": "markdown",
   "metadata": {},
   "source": [
    "We also have to provide a combination method. Let's list all available methods:"
   ]
  },
  {
   "cell_type": "code",
   "execution_count": null,
   "metadata": {},
   "outputs": [],
   "source": [
    "ctfr.show_methods()"
   ]
  },
  {
   "cell_type": "markdown",
   "metadata": {},
   "source": [
    "For this example, we'll use the Sample-Weighted Geometric Mean (SWGM), which is a lightweight and effective binwise combination method. Let's compute the combined TFR and plot it."
   ]
  },
  {
   "cell_type": "code",
   "execution_count": null,
   "metadata": {},
   "outputs": [],
   "source": [
    "# Compute the combined spectrogram using ctfr.ctfr_from_specs and the SWGM method,\n",
    "swgm_spec = ctfr.ctfr_from_specs((spec_512, spec_1024, spec_2048), method='swgm')\n",
    "\n",
    "# Plot the combined spectrogram.\n",
    "img = ctfr.specshow(ctfr.power_to_db(swgm_spec, ref=np.max), sr=sr, hop_length=256, x_axis='time', y_axis='linear', cmap='inferno')\n",
    "plt.ylim(0, 1000)\n",
    "plt.colorbar(img, format=\"%+2.0f dB\");"
   ]
  },
  {
   "cell_type": "markdown",
   "metadata": {},
   "source": [
    "> **_Note:_**  You can also use ```ctfr.methods.swgm_from_specs(X, ...)```, which is an alias for ```ctfr.ctfr_from_specs(X, method='swgm', ...)```."
   ]
  },
  {
   "cell_type": "markdown",
   "metadata": {},
   "source": [
    "As we can see, we have achieved good resolution in both time and frequency domains, with the sinusoidal components and the pulse component well resolved."
   ]
  },
  {
   "cell_type": "markdown",
   "metadata": {},
   "source": [
    "----"
   ]
  },
  {
   "cell_type": "markdown",
   "metadata": {},
   "source": [
    "#### Using ctfr.ctfr"
   ]
  },
  {
   "cell_type": "markdown",
   "metadata": {},
   "source": [
    "Using ```ctfr_from_specs``` is useful when we already have the STFT spectrograms to combine, or when we want more control over how to generate them. When we just want to compute a combined TFR directly from an audio signal, we can use the ```ctfr``` function, which computes the STFT spectrograms with different window lengths and then combines them.\n",
    "\n",
    "Let's do this for our signal, using the same parameters as before."
   ]
  },
  {
   "cell_type": "code",
   "execution_count": null,
   "metadata": {},
   "outputs": [],
   "source": [
    "# Compute the combined spectrogram using ctfr.ctfr and the SWGM method,\n",
    "swgm_spec_2 = ctfr.ctfr(signal, sr = sr, method = \"swgm\", win_length_list=[512, 1024, 2048], hop_length=256, n_fft=2048)\n",
    "\n",
    "# Plot the combined spectrogram.\n",
    "img = ctfr.specshow(ctfr.power_to_db(swgm_spec_2, ref=np.max), sr=sr, hop_length=512, x_axis='time', y_axis='linear', cmap='inferno')\n",
    "plt.ylim(0, 1000)\n",
    "plt.colorbar(img, format=\"%+2.0f dB\");"
   ]
  },
  {
   "cell_type": "markdown",
   "metadata": {},
   "source": [
    "> **_Note:_** You can also use ```ctfr.methods.swgm(X, sr, ...)```, which is an alias for ```ctfr.ctfr(X, sr, method='swgm', ...)```."
   ]
  },
  {
   "cell_type": "markdown",
   "metadata": {},
   "source": [
    "We can see that the combined spectrogram looks the same as the one we computed in the previous section. Let's confirm that they're indeed the same:"
   ]
  },
  {
   "cell_type": "code",
   "execution_count": null,
   "metadata": {},
   "outputs": [],
   "source": [
    "np.array_equal(swgm_spec, swgm_spec_2)"
   ]
  }
 ],
 "metadata": {
  "kernelspec": {
   "display_name": "Python 3",
   "language": "python",
   "name": "python3"
  },
  "language_info": {
   "codemirror_mode": {
    "name": "ipython",
    "version": 3
   },
   "file_extension": ".py",
   "mimetype": "text/x-python",
   "name": "python",
   "nbconvert_exporter": "python",
   "pygments_lexer": "ipython3",
   "version": "3.11.10"
  }
 },
 "nbformat": 4,
 "nbformat_minor": 2
}
