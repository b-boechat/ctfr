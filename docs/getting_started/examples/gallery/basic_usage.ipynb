{
  "cells": [
    {
      "cell_type": "markdown",
      "metadata": {},
      "source": [
        "\n# Basic usage\n\nThis example demonstrates the basic usage of combined TFRs and how to\ncompute and plot them using the ctfr package.\n"
      ]
    },
    {
      "cell_type": "code",
      "execution_count": null,
      "metadata": {
        "collapsed": false
      },
      "outputs": [],
      "source": [
        "import ctfr\nimport numpy as np\nimport matplotlib.pyplot as plt"
      ]
    },
    {
      "cell_type": "markdown",
      "metadata": {},
      "source": [
        "--------------\n\n\n"
      ]
    },
    {
      "cell_type": "markdown",
      "metadata": {},
      "source": [
        "## Loading the audio data\n\n\n"
      ]
    },
    {
      "cell_type": "markdown",
      "metadata": {},
      "source": [
        "Our synthetic example consists of $1$ s of audio data sampled at\n$22050 Hz$. The signal is comprised of two superposed sinusoidal\ncomponents with frequencies $f_1 = 440$ Hz and $f_2 = 506$\nHz, as well as a pulse component with a short duration around\n$t = 0.5$ s. We will see how the ctfr package can help us compute\na combined TFR of STFTs with good resolution in both time and frequency\ndomains, which is not possible with a traditional STFT. Let\u2019s load the\naudio data and plot it.\n\n\n"
      ]
    },
    {
      "cell_type": "code",
      "execution_count": null,
      "metadata": {
        "collapsed": false
      },
      "outputs": [],
      "source": [
        "# Load the audio signal.\nsignal, sr = ctfr.load(ctfr.fetch_sample(\"synthetic\")) # For a local file, use ctfr.load(\"path/to/file\")\nprint(f\"Sample rate: {sr} Hz\")\nplt.plot(signal);"
      ]
    },
    {
      "cell_type": "markdown",
      "metadata": {},
      "source": [
        "--------------\n\n\n"
      ]
    },
    {
      "cell_type": "markdown",
      "metadata": {},
      "source": [
        "## Computing STFT spectrograms with different resolutions.\n\n\n"
      ]
    },
    {
      "cell_type": "markdown",
      "metadata": {},
      "source": [
        "Now, let\u2019s compute plot an STFT spectrogram of the audio signal. We will\nuse a window length of $L = 512$ samples (~ $23$ ms), a hop\nlength of $512$ samples, and a FFT size of $2048$ samples.\n\n\n"
      ]
    },
    {
      "cell_type": "code",
      "execution_count": null,
      "metadata": {
        "collapsed": false
      },
      "outputs": [],
      "source": [
        "# Compute the spectrogram with L = 512.\nspec_512 = ctfr.stft_spec(signal, win_length=512, n_fft=2048, hop_length=256)\n\n# Plot the spectrogram.\nimg = ctfr.specshow(ctfr.power_to_db(spec_512, ref=np.max), sr=sr, hop_length=256, x_axis='time', y_axis='linear', cmap='inferno')\nplt.ylim(0, 1000)\nplt.colorbar(img, format=\"%+2.0f dB\");"
      ]
    },
    {
      "cell_type": "markdown",
      "metadata": {},
      "source": [
        "We can see that the the pulse component\u2019s onset and offset are well\ndelineated, but the sinusoidal components are not well resolved in the\nfrequency domain. This is due to the short window length, which provides\ngood time resolution but poor frequency resolution.\n\nNow, let\u2019s increase the window length to $L = 1024$ samples (~\n$46$ ms) and plot the STFT spectrogram again.\n\n\n"
      ]
    },
    {
      "cell_type": "code",
      "execution_count": null,
      "metadata": {
        "collapsed": false
      },
      "outputs": [],
      "source": [
        "# Compute the spectrogram with L = 1024.\nspec_1024 = ctfr.stft_spec(signal, win_length=1024, n_fft=2048, hop_length=256)\n\n# Plot the spectrogram.\nimg = ctfr.specshow(ctfr.power_to_db(spec_1024, ref=np.max), sr=sr, hop_length=256, x_axis='time', y_axis='linear', cmap='inferno')\nplt.ylim(0, 1000)\nplt.colorbar(img, format=\"%+2.0f dB\");"
      ]
    },
    {
      "cell_type": "markdown",
      "metadata": {},
      "source": [
        "Wee see that our frequency resolution is improved at cost of poorer time\nresolution.\n\nLet\u2019s go even further and increase our window length to $L = 2048$\nsamples (~ $93$ ms), compute the corresponding STFT and plot the\nresulting spectrogram.\n\n\n"
      ]
    },
    {
      "cell_type": "code",
      "execution_count": null,
      "metadata": {
        "collapsed": false
      },
      "outputs": [],
      "source": [
        "# Compute the spectrogram with L = 1024.\nspec_2048 = ctfr.stft_spec(signal, win_length=2048, n_fft=2048, hop_length=256)\n\n# Plot the spectrogram.\nimg = ctfr.specshow(ctfr.power_to_db(spec_2048, ref=np.max), sr=sr, hop_length=256, x_axis='time', y_axis='linear', cmap='inferno')\nplt.ylim(0, 1000)\nplt.colorbar(img, format=\"%+2.0f dB\");"
      ]
    },
    {
      "cell_type": "markdown",
      "metadata": {},
      "source": [
        "With this larger window length, our sinusoidal components are now well\nresolved in the frequency domain, but the pulse component\u2019s onset and\noffset are not well delineated.\n\n\n"
      ]
    },
    {
      "cell_type": "markdown",
      "metadata": {},
      "source": [
        "--------------\n\n\n"
      ]
    },
    {
      "cell_type": "markdown",
      "metadata": {},
      "source": [
        "## Computing a combined TFR\n\n\n"
      ]
    },
    {
      "cell_type": "markdown",
      "metadata": {},
      "source": [
        "In summary, what we have seen is the time-frequency trade-off. Achieving\nbetter frequency resolution (by increasing the window length) comes at\nthe cost of poorer time resolution, and vice versa. However, we can\ncircumvent this problem by computing a combined TFR, which is an average\n(in a generalized sense, depending on the combination method) of\nmultiple STFTs computed with different window lengths. This allows us to\nachieve good resolution in both time and frequency domains.\n\nLet\u2019s see how we can do this using this package.\n\n\n"
      ]
    },
    {
      "cell_type": "markdown",
      "metadata": {},
      "source": [
        "### Using ctfr.ctfr_from_specs\n\n\n"
      ]
    },
    {
      "cell_type": "markdown",
      "metadata": {},
      "source": [
        "Since we have already computed STFTs with different window lengths, we\ncan use the ``ctfr_from_specs`` function to compute a combined TFR from\nthese STFT spectrograms. This function requires an iterable of STFT\nspectrograms with the same time-frequency alignment. Since we used the\nsame hop length and FFT size for all STFTs, they are already aligned.\n\n\n"
      ]
    },
    {
      "cell_type": "code",
      "execution_count": null,
      "metadata": {
        "collapsed": false
      },
      "outputs": [],
      "source": [
        "print(spec_512.shape)\nprint(spec_1024.shape)\nprint(spec_2048.shape)"
      ]
    },
    {
      "cell_type": "markdown",
      "metadata": {},
      "source": [
        "We also have to provide a combination method. Let\u2019s list all available\nmethods:\n\n\n"
      ]
    },
    {
      "cell_type": "code",
      "execution_count": null,
      "metadata": {
        "collapsed": false
      },
      "outputs": [],
      "source": [
        "ctfr.show_methods()"
      ]
    },
    {
      "cell_type": "markdown",
      "metadata": {},
      "source": [
        "For this example, we\u2019ll use the Sample-Weighted Geometric Mean (SWGM),\nwhich is a lightweight and effective binwise combination method. Let\u2019s\ncompute the combined TFR and plot it.\n\n\n"
      ]
    },
    {
      "cell_type": "code",
      "execution_count": null,
      "metadata": {
        "collapsed": false
      },
      "outputs": [],
      "source": [
        "# Compute the combined spectrogram using ctfr.ctfr_from_specs and the SWGM method,\nswgm_spec = ctfr.ctfr_from_specs((spec_512, spec_1024, spec_2048), method='swgm')\n\n# Plot the combined spectrogram.\nimg = ctfr.specshow(ctfr.power_to_db(swgm_spec, ref=np.max), sr=sr, hop_length=256, x_axis='time', y_axis='linear', cmap='inferno')\nplt.ylim(0, 1000)\nplt.colorbar(img, format=\"%+2.0f dB\");"
      ]
    },
    {
      "cell_type": "markdown",
      "metadata": {},
      "source": [
        "<div class=\"alert alert-info\"><h4>Note</h4><p>You can also use ``ctfr.methods.swgm_from_specs(X, ...)``,\n   which is an alias for\n   ``ctfr.ctfr_from_specs(X, method='swgm', ...)``.</p></div>\n\n\n"
      ]
    },
    {
      "cell_type": "markdown",
      "metadata": {},
      "source": [
        "As we can see, we have achieved good resolution in both time and\nfrequency domains, with the sinusoidal components and the pulse\ncomponent well resolved.\n\n\n"
      ]
    },
    {
      "cell_type": "markdown",
      "metadata": {},
      "source": [
        "--------------\n\n\n"
      ]
    },
    {
      "cell_type": "markdown",
      "metadata": {},
      "source": [
        "### Using ctfr.ctfr\n\n\n"
      ]
    },
    {
      "cell_type": "markdown",
      "metadata": {},
      "source": [
        "Using ``ctfr_from_specs`` is useful when we already have the STFT\nspectrograms to combine, or when we want more control over how to\ngenerate them. When we just want to compute a combined TFR directly from\nan audio signal, we can use the ``ctfr`` function, which computes the\nSTFT spectrograms with different window lengths and then combines them.\n\nLet\u2019s do this for our signal, using the same parameters as before.\n\n\n"
      ]
    },
    {
      "cell_type": "code",
      "execution_count": null,
      "metadata": {
        "collapsed": false
      },
      "outputs": [],
      "source": [
        "# Compute the combined spectrogram using ctfr.ctfr and the SWGM method,\nswgm_spec_2 = ctfr.ctfr(signal, sr = sr, method = \"swgm\", win_lengths=[512, 1024, 2048], hop_length=256, n_fft=2048)\n\n# Plot the combined spectrogram.\nimg = ctfr.specshow(ctfr.power_to_db(swgm_spec_2, ref=np.max), sr=sr, hop_length=512, x_axis='time', y_axis='linear', cmap='inferno')\nplt.ylim(0, 1000)\nplt.colorbar(img, format=\"%+2.0f dB\");"
      ]
    },
    {
      "cell_type": "markdown",
      "metadata": {},
      "source": [
        "<div class=\"alert alert-info\"><h4>Note</h4><p>You can also use ``ctfr.methods.swgm(X, sr, ...)``, which\n   is an alias for ``ctfr.ctfr(X, sr, method='swgm', ...)``.</p></div>\n\n\n"
      ]
    },
    {
      "cell_type": "markdown",
      "metadata": {},
      "source": [
        "We can see that the combined spectrogram looks the same as the one we\ncomputed in the previous section. Let\u2019s confirm that they\u2019re indeed the\nsame:\n\n\n"
      ]
    },
    {
      "cell_type": "code",
      "execution_count": null,
      "metadata": {
        "collapsed": false
      },
      "outputs": [],
      "source": [
        "np.array_equal(swgm_spec, swgm_spec_2)"
      ]
    }
  ],
  "metadata": {
    "kernelspec": {
      "display_name": "Python 3",
      "language": "python",
      "name": "python3"
    },
    "language_info": {
      "codemirror_mode": {
        "name": "ipython",
        "version": 3
      },
      "file_extension": ".py",
      "mimetype": "text/x-python",
      "name": "python",
      "nbconvert_exporter": "python",
      "pygments_lexer": "ipython3",
      "version": "3.11.10"
    }
  },
  "nbformat": 4,
  "nbformat_minor": 0
}